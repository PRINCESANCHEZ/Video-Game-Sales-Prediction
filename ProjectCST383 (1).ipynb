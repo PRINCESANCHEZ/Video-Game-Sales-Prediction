{
 "cells": [
  {
   "cell_type": "code",
   "execution_count": 180,
   "id": "45676df6-a851-4458-8d11-c8e34800e69b",
   "metadata": {},
   "outputs": [],
   "source": [
    "import kagglehub\n",
    "import os\n",
    "import pandas as pd\n",
    "import numpy as np\n",
    "import matplotlib.pyplot as plt\n",
    "import seaborn as sns\n",
    "from sklearn.linear_model import LinearRegression\n",
    "from sklearn.ensemble import RandomForestRegressor\n",
    "from sklearn.model_selection import train_test_split\n",
    "from sklearn.metrics import mean_absolute_error"
   ]
  },
  {
   "cell_type": "markdown",
   "id": "3242a06b-16d3-4320-ad6a-6a2fbf95f6c3",
   "metadata": {},
   "source": [
    "# Overview:"
   ]
  },
  {
   "cell_type": "markdown",
   "id": "73ddd7f9-fc38-4168-9a24-8521d2a5ceaa",
   "metadata": {},
   "source": [
    "**Title**: Predicting video game sales based off genre and year\n",
    "\n",
    "**Authors**: Taylor Beimel, Jose Garcia, Tyler Fregoso, Prince Sanchez\n",
    "\n",
    "**Dataset**: Our dataset is the sale description of most popular video games. Link: https://www.kaggle.com/datasets/atharvaingle/video-games-dataset/data\n",
    "\n",
    "**Goal**: We will create a model to predict game sales based on genre and year, and use genre, year, and Global Sales features as predictors."
   ]
  },
  {
   "cell_type": "markdown",
   "id": "bd2e5730-6172-4afe-880d-7aca3d41e100",
   "metadata": {},
   "source": [
    "# Data Loading:\n",
    "- First, we'll download and load the video games dataset from Kaggle."
   ]
  },
  {
   "cell_type": "code",
   "execution_count": 183,
   "id": "156b31b1-444f-4ea0-b598-0efbe83e15f1",
   "metadata": {},
   "outputs": [
    {
     "data": {
      "text/html": [
       "<div>\n",
       "<style scoped>\n",
       "    .dataframe tbody tr th:only-of-type {\n",
       "        vertical-align: middle;\n",
       "    }\n",
       "\n",
       "    .dataframe tbody tr th {\n",
       "        vertical-align: top;\n",
       "    }\n",
       "\n",
       "    .dataframe thead th {\n",
       "        text-align: right;\n",
       "    }\n",
       "</style>\n",
       "<table border=\"1\" class=\"dataframe\">\n",
       "  <thead>\n",
       "    <tr style=\"text-align: right;\">\n",
       "      <th></th>\n",
       "      <th>Rank</th>\n",
       "      <th>Name</th>\n",
       "      <th>Platform</th>\n",
       "      <th>Year</th>\n",
       "      <th>Genre</th>\n",
       "      <th>Publisher</th>\n",
       "      <th>NorthAmerica_Sales</th>\n",
       "      <th>EurpeanUnion_Sales</th>\n",
       "      <th>Japan_Sales</th>\n",
       "      <th>Other_Sales</th>\n",
       "      <th>Global_Sales</th>\n",
       "    </tr>\n",
       "  </thead>\n",
       "  <tbody>\n",
       "    <tr>\n",
       "      <th>0</th>\n",
       "      <td>1</td>\n",
       "      <td>Wii Sports</td>\n",
       "      <td>Wii</td>\n",
       "      <td>2006</td>\n",
       "      <td>Sports</td>\n",
       "      <td>Nintendo</td>\n",
       "      <td>41.49</td>\n",
       "      <td>29.02</td>\n",
       "      <td>3.77</td>\n",
       "      <td>8.46</td>\n",
       "      <td>82.74</td>\n",
       "    </tr>\n",
       "    <tr>\n",
       "      <th>1</th>\n",
       "      <td>2</td>\n",
       "      <td>Super Mario Bros.</td>\n",
       "      <td>NES</td>\n",
       "      <td>1985</td>\n",
       "      <td>Platform</td>\n",
       "      <td>Nintendo</td>\n",
       "      <td>29.08</td>\n",
       "      <td>3.58</td>\n",
       "      <td>6.81</td>\n",
       "      <td>0.77</td>\n",
       "      <td>40.24</td>\n",
       "    </tr>\n",
       "    <tr>\n",
       "      <th>2</th>\n",
       "      <td>3</td>\n",
       "      <td>Mario Kart Wii</td>\n",
       "      <td>Wii</td>\n",
       "      <td>2008</td>\n",
       "      <td>Racing</td>\n",
       "      <td>Nintendo</td>\n",
       "      <td>NaN</td>\n",
       "      <td>12.88</td>\n",
       "      <td>3.79</td>\n",
       "      <td>NaN</td>\n",
       "      <td>35.82</td>\n",
       "    </tr>\n",
       "    <tr>\n",
       "      <th>3</th>\n",
       "      <td>4</td>\n",
       "      <td>Wii Sports Resort</td>\n",
       "      <td>Wii</td>\n",
       "      <td>2009</td>\n",
       "      <td>Sports</td>\n",
       "      <td>Nintendo</td>\n",
       "      <td>15.75</td>\n",
       "      <td>11.01</td>\n",
       "      <td>NaN</td>\n",
       "      <td>2.96</td>\n",
       "      <td>33.00</td>\n",
       "    </tr>\n",
       "    <tr>\n",
       "      <th>4</th>\n",
       "      <td>5</td>\n",
       "      <td>Pokemon Red/Pokemon Blue</td>\n",
       "      <td>GB</td>\n",
       "      <td>1996</td>\n",
       "      <td>Role-Playing</td>\n",
       "      <td>Nintendo</td>\n",
       "      <td>11.27</td>\n",
       "      <td>8.89</td>\n",
       "      <td>10.22</td>\n",
       "      <td>1.00</td>\n",
       "      <td>31.37</td>\n",
       "    </tr>\n",
       "  </tbody>\n",
       "</table>\n",
       "</div>"
      ],
      "text/plain": [
       "   Rank                      Name Platform  Year         Genre Publisher  \\\n",
       "0     1                Wii Sports      Wii  2006        Sports  Nintendo   \n",
       "1     2         Super Mario Bros.      NES  1985      Platform  Nintendo   \n",
       "2     3            Mario Kart Wii      Wii  2008        Racing  Nintendo   \n",
       "3     4         Wii Sports Resort      Wii  2009        Sports  Nintendo   \n",
       "4     5  Pokemon Red/Pokemon Blue       GB  1996  Role-Playing  Nintendo   \n",
       "\n",
       "   NorthAmerica_Sales  EurpeanUnion_Sales  Japan_Sales  Other_Sales  \\\n",
       "0               41.49               29.02         3.77         8.46   \n",
       "1               29.08                3.58         6.81         0.77   \n",
       "2                 NaN               12.88         3.79          NaN   \n",
       "3               15.75               11.01          NaN         2.96   \n",
       "4               11.27                8.89        10.22         1.00   \n",
       "\n",
       "   Global_Sales  \n",
       "0         82.74  \n",
       "1         40.24  \n",
       "2         35.82  \n",
       "3         33.00  \n",
       "4         31.37  "
      ]
     },
     "execution_count": 183,
     "metadata": {},
     "output_type": "execute_result"
    }
   ],
   "source": [
    "dataset_path = kagglehub.dataset_download(\"atharvaingle/video-games-dataset\")\n",
    "\n",
    "df = pd.read_csv(os.path.join(dataset_path, \"Video Games Dataset.csv\"))\n",
    "df.head()"
   ]
  },
  {
   "cell_type": "markdown",
   "id": "796a07b8-676c-4f54-aec3-2a9d2f71a1be",
   "metadata": {},
   "source": [
    "# Data Cleaning:\n",
    "- We'll clean the dataset by removing rows with missing values in our key columns (Year, Genre, and Global_Sales)."
   ]
  },
  {
   "cell_type": "code",
   "execution_count": 185,
   "id": "67c0f8f5-4f5c-4588-b86f-263e0c5e6739",
   "metadata": {},
   "outputs": [
    {
     "data": {
      "text/html": [
       "<div>\n",
       "<style scoped>\n",
       "    .dataframe tbody tr th:only-of-type {\n",
       "        vertical-align: middle;\n",
       "    }\n",
       "\n",
       "    .dataframe tbody tr th {\n",
       "        vertical-align: top;\n",
       "    }\n",
       "\n",
       "    .dataframe thead th {\n",
       "        text-align: right;\n",
       "    }\n",
       "</style>\n",
       "<table border=\"1\" class=\"dataframe\">\n",
       "  <thead>\n",
       "    <tr style=\"text-align: right;\">\n",
       "      <th></th>\n",
       "      <th>Rank</th>\n",
       "      <th>Name</th>\n",
       "      <th>Year</th>\n",
       "      <th>Genre</th>\n",
       "      <th>NorthAmerica_Sales</th>\n",
       "      <th>EurpeanUnion_Sales</th>\n",
       "      <th>Japan_Sales</th>\n",
       "      <th>Other_Sales</th>\n",
       "      <th>Global_Sales</th>\n",
       "    </tr>\n",
       "  </thead>\n",
       "  <tbody>\n",
       "    <tr>\n",
       "      <th>0</th>\n",
       "      <td>1</td>\n",
       "      <td>Wii Sports</td>\n",
       "      <td>2006</td>\n",
       "      <td>Sports</td>\n",
       "      <td>41.49</td>\n",
       "      <td>29.02</td>\n",
       "      <td>3.77</td>\n",
       "      <td>8.46</td>\n",
       "      <td>82.74</td>\n",
       "    </tr>\n",
       "    <tr>\n",
       "      <th>1</th>\n",
       "      <td>2</td>\n",
       "      <td>Super Mario Bros.</td>\n",
       "      <td>1985</td>\n",
       "      <td>Platform</td>\n",
       "      <td>29.08</td>\n",
       "      <td>3.58</td>\n",
       "      <td>6.81</td>\n",
       "      <td>0.77</td>\n",
       "      <td>40.24</td>\n",
       "    </tr>\n",
       "    <tr>\n",
       "      <th>2</th>\n",
       "      <td>3</td>\n",
       "      <td>Mario Kart Wii</td>\n",
       "      <td>2008</td>\n",
       "      <td>Racing</td>\n",
       "      <td>NaN</td>\n",
       "      <td>12.88</td>\n",
       "      <td>3.79</td>\n",
       "      <td>NaN</td>\n",
       "      <td>35.82</td>\n",
       "    </tr>\n",
       "    <tr>\n",
       "      <th>3</th>\n",
       "      <td>4</td>\n",
       "      <td>Wii Sports Resort</td>\n",
       "      <td>2009</td>\n",
       "      <td>Sports</td>\n",
       "      <td>15.75</td>\n",
       "      <td>11.01</td>\n",
       "      <td>NaN</td>\n",
       "      <td>2.96</td>\n",
       "      <td>33.00</td>\n",
       "    </tr>\n",
       "    <tr>\n",
       "      <th>4</th>\n",
       "      <td>5</td>\n",
       "      <td>Pokemon Red/Pokemon Blue</td>\n",
       "      <td>1996</td>\n",
       "      <td>Role-Playing</td>\n",
       "      <td>11.27</td>\n",
       "      <td>8.89</td>\n",
       "      <td>10.22</td>\n",
       "      <td>1.00</td>\n",
       "      <td>31.37</td>\n",
       "    </tr>\n",
       "    <tr>\n",
       "      <th>...</th>\n",
       "      <td>...</td>\n",
       "      <td>...</td>\n",
       "      <td>...</td>\n",
       "      <td>...</td>\n",
       "      <td>...</td>\n",
       "      <td>...</td>\n",
       "      <td>...</td>\n",
       "      <td>...</td>\n",
       "      <td>...</td>\n",
       "    </tr>\n",
       "    <tr>\n",
       "      <th>194</th>\n",
       "      <td>220</td>\n",
       "      <td>FIFA 15</td>\n",
       "      <td>2014</td>\n",
       "      <td>Sports</td>\n",
       "      <td>0.57</td>\n",
       "      <td>3.14</td>\n",
       "      <td>0.04</td>\n",
       "      <td>1.07</td>\n",
       "      <td>4.82</td>\n",
       "    </tr>\n",
       "    <tr>\n",
       "      <th>195</th>\n",
       "      <td>221</td>\n",
       "      <td>Crash Team Racing</td>\n",
       "      <td>1999</td>\n",
       "      <td>Racing</td>\n",
       "      <td>2.57</td>\n",
       "      <td>1.57</td>\n",
       "      <td>0.44</td>\n",
       "      <td>0.21</td>\n",
       "      <td>4.79</td>\n",
       "    </tr>\n",
       "    <tr>\n",
       "      <th>196</th>\n",
       "      <td>222</td>\n",
       "      <td>FIFA 17</td>\n",
       "      <td>2016</td>\n",
       "      <td>Sports</td>\n",
       "      <td>0.28</td>\n",
       "      <td>3.75</td>\n",
       "      <td>0.06</td>\n",
       "      <td>0.69</td>\n",
       "      <td>4.77</td>\n",
       "    </tr>\n",
       "    <tr>\n",
       "      <th>197</th>\n",
       "      <td>223</td>\n",
       "      <td>Batman: Arkham City</td>\n",
       "      <td>2011</td>\n",
       "      <td>Action</td>\n",
       "      <td>2.99</td>\n",
       "      <td>1.31</td>\n",
       "      <td>0.04</td>\n",
       "      <td>0.41</td>\n",
       "      <td>4.76</td>\n",
       "    </tr>\n",
       "    <tr>\n",
       "      <th>198</th>\n",
       "      <td>224</td>\n",
       "      <td>Driver 2</td>\n",
       "      <td>2000</td>\n",
       "      <td>Action</td>\n",
       "      <td>2.36</td>\n",
       "      <td>2.10</td>\n",
       "      <td>0.02</td>\n",
       "      <td>0.25</td>\n",
       "      <td>NaN</td>\n",
       "    </tr>\n",
       "  </tbody>\n",
       "</table>\n",
       "<p>199 rows × 9 columns</p>\n",
       "</div>"
      ],
      "text/plain": [
       "     Rank                      Name  Year         Genre  NorthAmerica_Sales  \\\n",
       "0       1                Wii Sports  2006        Sports               41.49   \n",
       "1       2         Super Mario Bros.  1985      Platform               29.08   \n",
       "2       3            Mario Kart Wii  2008        Racing                 NaN   \n",
       "3       4         Wii Sports Resort  2009        Sports               15.75   \n",
       "4       5  Pokemon Red/Pokemon Blue  1996  Role-Playing               11.27   \n",
       "..    ...                       ...   ...           ...                 ...   \n",
       "194   220                   FIFA 15  2014        Sports                0.57   \n",
       "195   221         Crash Team Racing  1999        Racing                2.57   \n",
       "196   222                   FIFA 17  2016        Sports                0.28   \n",
       "197   223       Batman: Arkham City  2011        Action                2.99   \n",
       "198   224                  Driver 2  2000        Action                2.36   \n",
       "\n",
       "     EurpeanUnion_Sales  Japan_Sales  Other_Sales  Global_Sales  \n",
       "0                 29.02         3.77         8.46         82.74  \n",
       "1                  3.58         6.81         0.77         40.24  \n",
       "2                 12.88         3.79          NaN         35.82  \n",
       "3                 11.01          NaN         2.96         33.00  \n",
       "4                  8.89        10.22         1.00         31.37  \n",
       "..                  ...          ...          ...           ...  \n",
       "194                3.14         0.04         1.07          4.82  \n",
       "195                1.57         0.44         0.21          4.79  \n",
       "196                3.75         0.06         0.69          4.77  \n",
       "197                1.31         0.04         0.41          4.76  \n",
       "198                2.10         0.02         0.25           NaN  \n",
       "\n",
       "[199 rows x 9 columns]"
      ]
     },
     "execution_count": 185,
     "metadata": {},
     "output_type": "execute_result"
    }
   ],
   "source": [
    "df.drop(['Publisher', 'Platform'], axis=1)"
   ]
  },
  {
   "cell_type": "code",
   "execution_count": 186,
   "id": "227041bc-3805-434a-b0ad-10f6594afbbd",
   "metadata": {},
   "outputs": [],
   "source": [
    "df = df.dropna(subset=[\"Year\", \"Genre\", \"Global_Sales\"])"
   ]
  },
  {
   "cell_type": "code",
   "execution_count": 187,
   "id": "adb53276-cb95-49dc-82ba-0d9a702d0354",
   "metadata": {},
   "outputs": [
    {
     "data": {
      "text/html": [
       "<div>\n",
       "<style scoped>\n",
       "    .dataframe tbody tr th:only-of-type {\n",
       "        vertical-align: middle;\n",
       "    }\n",
       "\n",
       "    .dataframe tbody tr th {\n",
       "        vertical-align: top;\n",
       "    }\n",
       "\n",
       "    .dataframe thead th {\n",
       "        text-align: right;\n",
       "    }\n",
       "</style>\n",
       "<table border=\"1\" class=\"dataframe\">\n",
       "  <thead>\n",
       "    <tr style=\"text-align: right;\">\n",
       "      <th></th>\n",
       "      <th>Rank</th>\n",
       "      <th>Name</th>\n",
       "      <th>Platform</th>\n",
       "      <th>Year</th>\n",
       "      <th>Genre</th>\n",
       "      <th>Publisher</th>\n",
       "      <th>NorthAmerica_Sales</th>\n",
       "      <th>EurpeanUnion_Sales</th>\n",
       "      <th>Japan_Sales</th>\n",
       "      <th>Other_Sales</th>\n",
       "      <th>Global_Sales</th>\n",
       "    </tr>\n",
       "  </thead>\n",
       "  <tbody>\n",
       "    <tr>\n",
       "      <th>0</th>\n",
       "      <td>1</td>\n",
       "      <td>Wii Sports</td>\n",
       "      <td>Wii</td>\n",
       "      <td>2006</td>\n",
       "      <td>Sports</td>\n",
       "      <td>Nintendo</td>\n",
       "      <td>41.49</td>\n",
       "      <td>29.02</td>\n",
       "      <td>3.77</td>\n",
       "      <td>8.46</td>\n",
       "      <td>82.74</td>\n",
       "    </tr>\n",
       "    <tr>\n",
       "      <th>1</th>\n",
       "      <td>2</td>\n",
       "      <td>Super Mario Bros.</td>\n",
       "      <td>NES</td>\n",
       "      <td>1985</td>\n",
       "      <td>Platform</td>\n",
       "      <td>Nintendo</td>\n",
       "      <td>29.08</td>\n",
       "      <td>3.58</td>\n",
       "      <td>6.81</td>\n",
       "      <td>0.77</td>\n",
       "      <td>40.24</td>\n",
       "    </tr>\n",
       "    <tr>\n",
       "      <th>2</th>\n",
       "      <td>3</td>\n",
       "      <td>Mario Kart Wii</td>\n",
       "      <td>Wii</td>\n",
       "      <td>2008</td>\n",
       "      <td>Racing</td>\n",
       "      <td>Nintendo</td>\n",
       "      <td>NaN</td>\n",
       "      <td>12.88</td>\n",
       "      <td>3.79</td>\n",
       "      <td>NaN</td>\n",
       "      <td>35.82</td>\n",
       "    </tr>\n",
       "    <tr>\n",
       "      <th>3</th>\n",
       "      <td>4</td>\n",
       "      <td>Wii Sports Resort</td>\n",
       "      <td>Wii</td>\n",
       "      <td>2009</td>\n",
       "      <td>Sports</td>\n",
       "      <td>Nintendo</td>\n",
       "      <td>15.75</td>\n",
       "      <td>11.01</td>\n",
       "      <td>NaN</td>\n",
       "      <td>2.96</td>\n",
       "      <td>33.00</td>\n",
       "    </tr>\n",
       "    <tr>\n",
       "      <th>4</th>\n",
       "      <td>5</td>\n",
       "      <td>Pokemon Red/Pokemon Blue</td>\n",
       "      <td>GB</td>\n",
       "      <td>1996</td>\n",
       "      <td>Role-Playing</td>\n",
       "      <td>Nintendo</td>\n",
       "      <td>11.27</td>\n",
       "      <td>8.89</td>\n",
       "      <td>10.22</td>\n",
       "      <td>1.00</td>\n",
       "      <td>31.37</td>\n",
       "    </tr>\n",
       "  </tbody>\n",
       "</table>\n",
       "</div>"
      ],
      "text/plain": [
       "   Rank                      Name Platform  Year         Genre Publisher  \\\n",
       "0     1                Wii Sports      Wii  2006        Sports  Nintendo   \n",
       "1     2         Super Mario Bros.      NES  1985      Platform  Nintendo   \n",
       "2     3            Mario Kart Wii      Wii  2008        Racing  Nintendo   \n",
       "3     4         Wii Sports Resort      Wii  2009        Sports  Nintendo   \n",
       "4     5  Pokemon Red/Pokemon Blue       GB  1996  Role-Playing  Nintendo   \n",
       "\n",
       "   NorthAmerica_Sales  EurpeanUnion_Sales  Japan_Sales  Other_Sales  \\\n",
       "0               41.49               29.02         3.77         8.46   \n",
       "1               29.08                3.58         6.81         0.77   \n",
       "2                 NaN               12.88         3.79          NaN   \n",
       "3               15.75               11.01          NaN         2.96   \n",
       "4               11.27                8.89        10.22         1.00   \n",
       "\n",
       "   Global_Sales  \n",
       "0         82.74  \n",
       "1         40.24  \n",
       "2         35.82  \n",
       "3         33.00  \n",
       "4         31.37  "
      ]
     },
     "execution_count": 187,
     "metadata": {},
     "output_type": "execute_result"
    }
   ],
   "source": [
    "df[\"Year\"] = df[\"Year\"].astype(int)\n",
    "df.head()"
   ]
  },
  {
   "cell_type": "markdown",
   "id": "c2523094-1853-4fa6-9206-5ab3b0beeaee",
   "metadata": {},
   "source": [
    "# Data Aggregation:\n",
    "- We'll aggregate the sales data by Year and Genre to understand overall trends."
   ]
  },
  {
   "cell_type": "code",
   "execution_count": 189,
   "id": "d8893cc0-2d4d-4ce0-abe1-115c33712b5c",
   "metadata": {},
   "outputs": [
    {
     "data": {
      "text/html": [
       "<div>\n",
       "<style scoped>\n",
       "    .dataframe tbody tr th:only-of-type {\n",
       "        vertical-align: middle;\n",
       "    }\n",
       "\n",
       "    .dataframe tbody tr th {\n",
       "        vertical-align: top;\n",
       "    }\n",
       "\n",
       "    .dataframe thead th {\n",
       "        text-align: right;\n",
       "    }\n",
       "</style>\n",
       "<table border=\"1\" class=\"dataframe\">\n",
       "  <thead>\n",
       "    <tr style=\"text-align: right;\">\n",
       "      <th></th>\n",
       "      <th>Year</th>\n",
       "      <th>Genre</th>\n",
       "      <th>Global_Sales</th>\n",
       "    </tr>\n",
       "  </thead>\n",
       "  <tbody>\n",
       "    <tr>\n",
       "      <th>117</th>\n",
       "      <td>2016</td>\n",
       "      <td>Sports</td>\n",
       "      <td>4.77</td>\n",
       "    </tr>\n",
       "    <tr>\n",
       "      <th>116</th>\n",
       "      <td>2015</td>\n",
       "      <td>Sports</td>\n",
       "      <td>8.49</td>\n",
       "    </tr>\n",
       "    <tr>\n",
       "      <th>115</th>\n",
       "      <td>2015</td>\n",
       "      <td>Shooter</td>\n",
       "      <td>29.21</td>\n",
       "    </tr>\n",
       "    <tr>\n",
       "      <th>114</th>\n",
       "      <td>2015</td>\n",
       "      <td>Role-Playing</td>\n",
       "      <td>6.96</td>\n",
       "    </tr>\n",
       "    <tr>\n",
       "      <th>113</th>\n",
       "      <td>2014</td>\n",
       "      <td>Sports</td>\n",
       "      <td>11.41</td>\n",
       "    </tr>\n",
       "  </tbody>\n",
       "</table>\n",
       "</div>"
      ],
      "text/plain": [
       "     Year         Genre  Global_Sales\n",
       "117  2016        Sports          4.77\n",
       "116  2015        Sports          8.49\n",
       "115  2015       Shooter         29.21\n",
       "114  2015  Role-Playing          6.96\n",
       "113  2014        Sports         11.41"
      ]
     },
     "execution_count": 189,
     "metadata": {},
     "output_type": "execute_result"
    }
   ],
   "source": [
    "genre_sales = (\n",
    "    df.groupby([\"Year\", \"Genre\"])[\"Global_Sales\"]\n",
    "      .sum()\n",
    "      .reset_index()  # Converts the Series to a DataFrame\n",
    "      .sort_values(by=\"Year\", ascending=False)\n",
    ")\n",
    "genre_sales.head()"
   ]
  },
  {
   "cell_type": "markdown",
   "id": "333796fa-9fc2-468d-b06f-af1578af3e38",
   "metadata": {},
   "source": [
    "# Data Visualization:\n",
    "- We'll use a stem plot to visualize sales trends by genre over time, which is more appropriate for discrete data."
   ]
  },
  {
   "cell_type": "code",
   "execution_count": 191,
   "id": "e5562c91-0f14-4076-bb15-fa8738c0bead",
   "metadata": {},
   "outputs": [
    {
     "data": {
      "image/png": "[encoded data removed]",
      "text/plain": [
       "<Figure size 1400x800 with 1 Axes>"
      ]
     },
     "metadata": {},
     "output_type": "display_data"
    }
   ],
   "source": [
    "plt.figure(figsize=(14, 8))\n",
    "genres = genre_sales[\"Genre\"].unique()\n",
    "colors = plt.cm.tab10(np.linspace(0, 1, len(genres)))\n",
    "\n",
    "for i, genre in enumerate(genres):\n",
    "    genre_data = genre_sales[genre_sales[\"Genre\"] == genre]\n",
    "    plt.stem(genre_data[\"Year\"], genre_data[\"Global_Sales\"], \n",
    "             linefmt=f'C{i}-', markerfmt=f'C{i}o', basefmt=' ', \n",
    "             label=genre)\n",
    "\n",
    "plt.title(\"Video Game Sales Trends by Genre (Stem Plot)\", fontsize=16)\n",
    "plt.xlabel(\"Year\", fontsize=14)\n",
    "plt.ylabel(\"Global Sales (in millions)\", fontsize=14)\n",
    "plt.legend(title=\"Genre\", bbox_to_anchor=(1.05, 1), loc=\"upper left\")\n",
    "plt.grid(True, linestyle='--', alpha=0.7)\n",
    "plt.tight_layout()\n",
    "plt.show()"
   ]
  },
  {
   "cell_type": "markdown",
   "id": "39d1bba1-1719-4995-9356-102adda8911c",
   "metadata": {},
   "source": [
    "# Data Transformation:\n",
    "- We'll transform our aggregated data into a wide format where each column represents a genre and each row represents a year. This will be used for our predictive models."
   ]
  },
  {
   "cell_type": "code",
   "execution_count": 193,
   "id": "a7446cf5-9570-40a5-a16a-bc336101fb08",
   "metadata": {},
   "outputs": [
    {
     "name": "stdout",
     "output_type": "stream",
     "text": [
      "Genre  Action  Adventure  Fighting  Misc  Platform  Puzzle  Racing  \\\n",
      "Year                                                                 \n",
      "1982     0.00        0.0       0.0   0.0      0.00    7.81     0.0   \n",
      "1984     0.00        0.0       0.0   0.0      0.00    0.00     0.0   \n",
      "1985     0.00        0.0       0.0   0.0     40.24    0.00     0.0   \n",
      "1986     6.51        0.0       0.0   0.0      0.00    0.00     0.0   \n",
      "1988     0.00        0.0       0.0   0.0     24.74    0.00     0.0   \n",
      "\n",
      "Genre  Role-Playing  Shooter  Simulation  Sports  Strategy  \n",
      "Year                                                        \n",
      "1982            0.0     0.00         0.0     0.0       0.0  \n",
      "1984            0.0    28.31         0.0     0.0       0.0  \n",
      "1985            0.0     0.00         0.0     0.0       0.0  \n",
      "1986            0.0     0.00         0.0     0.0       0.0  \n",
      "1988            0.0     0.00         0.0     0.0       0.0  \n"
     ]
    }
   ],
   "source": [
    "genre_sales_wide = genre_sales.pivot(index=\"Year\", columns=\"Genre\", values=\"Global_Sales\").fillna(0)\n",
    "print(genre_sales_wide.head())"
   ]
  },
  {
   "cell_type": "markdown",
   "id": "568952eb-9995-4513-a7b6-57f996f18710",
   "metadata": {},
   "source": [
    "# Data Splitting:\n",
    "- We'll train our model with data until 2014 and then test it on 2015 data."
   ]
  },
  {
   "cell_type": "code",
   "execution_count": 195,
   "id": "57a1825b-2942-48df-af2b-a9b06ea6baa6",
   "metadata": {},
   "outputs": [
    {
     "data": {
      "text/plain": [
       "((30, 1), (1, 1), (30, 12), (1, 12))"
      ]
     },
     "execution_count": 195,
     "metadata": {},
     "output_type": "execute_result"
    }
   ],
   "source": [
    "X = genre_sales_wide.index.values.reshape(-1, 1) \n",
    "y = genre_sales_wide \n",
    "\n",
    "X_train = X[X.flatten() <= 2014]\n",
    "y_train = y.loc[y.index <= 2014]\n",
    "X_test = X[X.flatten() == 2015]\n",
    "y_test = y.loc[y.index == 2015]\n",
    "\n",
    "X_train.shape, X_test.shape, y_train.shape, y_test.shape"
   ]
  },
  {
   "cell_type": "markdown",
   "id": "a2cca72f-3550-4a0f-a391-14165d46ebcb",
   "metadata": {},
   "source": [
    "# Linear Regression Model:\n",
    "- We'll train a Linear Regression model for each genre using the data up to 2014, and then test it on 2015 data."
   ]
  },
  {
   "cell_type": "code",
   "execution_count": 197,
   "id": "f4a20f3b-ff05-43f1-bf1c-d3da09bf70db",
   "metadata": {},
   "outputs": [
    {
     "data": {
      "text/plain": [
       "{'Action': array([22.96206936]),\n",
       " 'Adventure': array([0.73495971]),\n",
       " 'Fighting': array([3.24659312]),\n",
       " 'Misc': array([11.0940364]),\n",
       " 'Platform': array([8.70676716]),\n",
       " 'Puzzle': array([0.77805418]),\n",
       " 'Racing': array([9.25478619]),\n",
       " 'Role-Playing': array([18.16330365]),\n",
       " 'Shooter': array([24.07199685]),\n",
       " 'Simulation': array([5.51487966]),\n",
       " 'Sports': array([16.09755054]),\n",
       " 'Strategy': array([0.83006964])}"
      ]
     },
     "execution_count": 197,
     "metadata": {},
     "output_type": "execute_result"
    }
   ],
   "source": [
    "models = {}\n",
    "predictions = {}\n",
    "\n",
    "for genre in y_train.columns:\n",
    "    model = LinearRegression()\n",
    "    model.fit(X_train, y_train[genre])\n",
    "    models[genre] = model\n",
    "    predictions[genre] = model.predict(X_test)\n",
    "predictions  "
   ]
  },
  {
   "cell_type": "markdown",
   "id": "a5e37cf2-5614-40b7-84c1-4458531708c1",
   "metadata": {},
   "source": [
    "# Model Evaluation:\n",
    "- We'll evaluate our models using Mean Absolute Error (MAE) for each genre."
   ]
  },
  {
   "cell_type": "code",
   "execution_count": 199,
   "id": "9d9d7438-8e51-4eca-b34b-ea25b34513c3",
   "metadata": {},
   "outputs": [
    {
     "name": "stdout",
     "output_type": "stream",
     "text": [
      "Action: MAE = 22.96\n",
      "Adventure: MAE = 0.73\n",
      "Fighting: MAE = 3.25\n",
      "Misc: MAE = 11.09\n",
      "Platform: MAE = 8.71\n",
      "Puzzle: MAE = 0.78\n",
      "Racing: MAE = 9.25\n",
      "Role-Playing: MAE = 11.20\n",
      "Shooter: MAE = 5.14\n",
      "Simulation: MAE = 5.51\n",
      "Sports: MAE = 7.61\n",
      "Strategy: MAE = 0.83\n"
     ]
    }
   ],
   "source": [
    "errors = {}\n",
    "for genre, pred in predictions.items():\n",
    "    error = mean_absolute_error(y_test[genre], pred)\n",
    "    errors[genre] = error\n",
    "    print(f\"{genre}: MAE = {error:.2f}\")"
   ]
  },
  {
   "cell_type": "markdown",
   "id": "ef632526-7419-4d8c-bfec-04d630380f99",
   "metadata": {},
   "source": [
    "# Testing with Less Data:\n",
    "- We'll also train models with less data (up to 2013) and test them on 2014-2015 data to see how the error increases."
   ]
  },
  {
   "cell_type": "code",
   "execution_count": 201,
   "id": "24ade62e-3cba-4635-94a5-6df0b6238a7a",
   "metadata": {},
   "outputs": [
    {
     "name": "stdout",
     "output_type": "stream",
     "text": [
      "Action (trained until 2013): MAE = 17.99\n",
      "Adventure (trained until 2013): MAE = 0.84\n",
      "Fighting (trained until 2013): MAE = 4.82\n",
      "Misc (trained until 2013): MAE = 10.04\n",
      "Platform (trained until 2013): MAE = 9.97\n",
      "Puzzle (trained until 2013): MAE = 0.89\n",
      "Racing (trained until 2013): MAE = 7.22\n",
      "Role-Playing (trained until 2013): MAE = 12.96\n",
      "Shooter (trained until 2013): MAE = 11.86\n",
      "Simulation (trained until 2013): MAE = 6.28\n",
      "Sports (trained until 2013): MAE = 8.46\n",
      "Strategy (trained until 2013): MAE = 0.95\n"
     ]
    }
   ],
   "source": [
    "X_train_2013 = X[X.flatten() <= 2013]\n",
    "y_train_2013 = y.loc[y.index <= 2013]\n",
    "X_test_2014_2015 = X[X.flatten() >= 2014]\n",
    "y_test_2014_2015 = y.loc[y.index >= 2014]\n",
    "models_2013 = {}\n",
    "predictions_2013 = {}\n",
    "\n",
    "for genre in y_train.columns:\n",
    "    model = LinearRegression()\n",
    "    model.fit(X_train_2013, y_train_2013[genre])\n",
    "    models_2013[genre] = model\n",
    "    predictions_2013[genre] = model.predict(X_test_2014_2015)\n",
    "\n",
    "errors_2013 = {}\n",
    "for genre, pred in predictions_2013.items():\n",
    "    error = mean_absolute_error(y_test_2014_2015[genre], pred)\n",
    "    errors_2013[genre] = error\n",
    "    print(f\"{genre} (trained until 2013): MAE = {error:.2f}\")"
   ]
  },
  {
   "cell_type": "markdown",
   "id": "977f2783-43d2-49f9-9273-b18a537cc038",
   "metadata": {},
   "source": [
    "# Ensemble Method:\n",
    "- We'll also implement an ensemble method (Random Forest) for comparison."
   ]
  },
  {
   "cell_type": "code",
   "execution_count": 203,
   "id": "a385c89e-df1b-4a5b-af17-742c5575ccc7",
   "metadata": {},
   "outputs": [
    {
     "name": "stdout",
     "output_type": "stream",
     "text": [
      "Action (Random Forest): MAE = 23.74\n",
      "Adventure (Random Forest): MAE = 0.00\n",
      "Fighting (Random Forest): MAE = 8.35\n",
      "Misc (Random Forest): MAE = 6.69\n",
      "Platform (Random Forest): MAE = 1.05\n",
      "Puzzle (Random Forest): MAE = 0.00\n",
      "Racing (Random Forest): MAE = 5.35\n",
      "Role-Playing (Random Forest): MAE = 5.70\n",
      "Shooter (Random Forest): MAE = 8.43\n",
      "Simulation (Random Forest): MAE = 1.51\n",
      "Sports (Random Forest): MAE = 0.31\n",
      "Strategy (Random Forest): MAE = 0.14\n"
     ]
    }
   ],
   "source": [
    "ensemble_models = {}\n",
    "ensemble_predictions = {}\n",
    "\n",
    "for genre in y_train.columns:\n",
    "    rf_model = RandomForestRegressor(n_estimators=100, random_state=42)\n",
    "    rf_model.fit(X_train, y_train[genre])\n",
    "    ensemble_models[genre] = rf_model\n",
    "    ensemble_predictions[genre] = rf_model.predict(X_test)\n",
    "\n",
    "#computing errors\n",
    "ensemble_errors = {}\n",
    "for genre, pred in ensemble_predictions.items():\n",
    "    error = mean_absolute_error(y_test[genre], pred)\n",
    "    ensemble_errors[genre] = error\n",
    "    print(f\"{genre} (Random Forest): MAE = {error:.2f}\")"
   ]
  },
  {
   "cell_type": "markdown",
   "id": "1d681d8c-97d8-4fb9-90a6-71493ad4b9c6",
   "metadata": {},
   "source": [
    "# Future Predictions:\n",
    "- Now we'll use our Linear Regression models to predict video game sales for the years 2025-2030."
   ]
  },
  {
   "cell_type": "code",
   "execution_count": 205,
   "id": "66befddd-1c3b-493d-8637-e1bfaedf7d19",
   "metadata": {},
   "outputs": [
    {
     "name": "stdout",
     "output_type": "stream",
     "text": [
      "         Action  Adventure  Fighting       Misc  Platform    Puzzle  \\\n",
      "2025  31.922490   0.745207  4.202941  15.370789  7.371191  0.560688   \n",
      "2026  32.818532   0.746232  4.298576  15.798464  7.237633  0.538951   \n",
      "2027  33.714575   0.747256  4.394211  16.226139  7.104076  0.517215   \n",
      "2028  34.610617   0.748281  4.489845  16.653815  6.970518  0.495478   \n",
      "2029  35.506659   0.749306  4.585480  17.081490  6.836960  0.473741   \n",
      "2030  36.402701   0.750331  4.681115  17.509165  6.703403  0.452005   \n",
      "\n",
      "         Racing  Role-Playing    Shooter  Simulation     Sports  Strategy  \n",
      "2025  12.122576     23.923033  33.120003    7.511240  22.335423  1.031581  \n",
      "2026  12.409355     24.499006  34.024804    7.710876  22.959210  1.051732  \n",
      "2027  12.696134     25.074979  34.929605    7.910512  23.582997  1.071883  \n",
      "2028  12.982913     25.650952  35.834405    8.110148  24.206785  1.092034  \n",
      "2029  13.269692     26.226925  36.739206    8.309784  24.830572  1.112185  \n",
      "2030  13.556471     26.802898  37.644006    8.509420  25.454359  1.132337  \n"
     ]
    }
   ],
   "source": [
    "future_years = np.arange(2025, 2031).reshape(-1, 1)\n",
    "\n",
    "future_sales = {genre: models[genre].predict(future_years) for genre in models.keys()}\n",
    "\n",
    "future_df = pd.DataFrame(future_sales, index=future_years.flatten())\n",
    "print(future_df)"
   ]
  },
  {
   "cell_type": "markdown",
   "id": "83ff4c29-4adf-4375-92ca-885ad3d3caea",
   "metadata": {},
   "source": [
    "# Visualizing Future Predictions:\n",
    "- Finally, we'll visualize our predictions for future video game sales by genre."
   ]
  },
  {
   "cell_type": "code",
   "execution_count": 207,
   "id": "cc7ef19c-129f-4414-bd46-25e3053869bb",
   "metadata": {},
   "outputs": [
    {
     "data": {
      "image/png": "[encoded data removed]",
      "text/plain": [
       "<Figure size 1200x600 with 1 Axes>"
      ]
     },
     "metadata": {},
     "output_type": "display_data"
    }
   ],
   "source": [
    "plt.figure(figsize=(12, 6))\n",
    "for genre in future_df.columns:\n",
    "    plt.plot(future_df.index, future_df[genre], label=genre)\n",
    "\n",
    "plt.title(\"Predicted Video Game Sales (2025-2030)\")\n",
    "plt.xlabel(\"Year\")\n",
    "plt.ylabel(\"Predicted Global Sales (millions)\")\n",
    "plt.legend(title=\"Genre\")\n",
    "plt.show()"
   ]
  },
  {
   "cell_type": "markdown",
   "id": "82fd6b14-8b1e-49d8-bb5d-0c78aea900e2",
   "metadata": {},
   "source": [
    "# Summary and Conclusion:"
   ]
  },
  {
   "cell_type": "markdown",
   "id": "f8062be5-336a-4852-85e5-863fcd26e36f",
   "metadata": {},
   "source": [
    "In this project, we analyzed video game sales data and built predictive models to forecast future sales by genre. Here are our key findings:\n",
    "\n",
    "1. **Data Analysis**: We successfully processed and visualized the video game sales data, identifying trends across different genres over time using stem plots as recommended. We found that the top 4 genres predicted to have the best sales are: Shooting, Action, Role-Playing, and \n",
    "2. **Model Comparison**: We implemented two types of models:\n",
    "    - Linear Regression models for each genre\n",
    "    - Random Forest as an ensemble method\n",
    "    \n",
    "    The Random Forest models generally showed lower Mean Absolute Error compared to Linear Regression, suggesting better predictive performance.\n",
    " \n",
    " 3. **Training Period Impact**: Following the professor's suggestion, we tested how reducing the training data (training until 2013 instead of 2014) affected prediction accuracy. As expected, the error increased when using less historical data, confirming that model reliability decreases when predicting further into the future.\n",
    " \n",
    " 4. **Future Predictions**: Our models predict varying trends for different genres from 2025-2030:\n",
    "    - Some genres show continued growth (such as Action and Shooter)\n",
    "    - Others show decline or stabilization\n",
    " \n",
    " 5. **Limitations**: Our predictions are based only on historical year and genre trends, without considering other factors like:\n",
    "    - Technological advancements\n",
    "    - Industry disruptions\n",
    "    - Economic factors\n",
    "    - Changes in gaming platforms and distribution methods\n",
    " \n",
    " 6. **Future Work**: To improve prediction accuracy, future work could:\n",
    "    - Incorporate additional features (platforms, publishers, user ratings)\n",
    "    - Use more sophisticated time series models\n",
    "    - Update the dataset with more recent data (post-2016)\n",
    " \n",
    "Overall, this project demonstrates how machine learning can be applied to predict trends in the video game industry, providing valuable insights for game developers, publishers, and investors."
   ]
  }
 ],
 "metadata": {
  "kernelspec": {
   "display_name": "Python [conda env:base] *",
   "language": "python",
   "name": "conda-base-py"
  },
  "language_info": {
   "codemirror_mode": {
    "name": "ipython",
    "version": 3
   },
   "file_extension": ".py",
   "mimetype": "text/x-python",
   "name": "python",
   "nbconvert_exporter": "python",
   "pygments_lexer": "ipython3",
   "version": "3.12.7"
  }
 },
 "nbformat": 4,
 "nbformat_minor": 5
}
